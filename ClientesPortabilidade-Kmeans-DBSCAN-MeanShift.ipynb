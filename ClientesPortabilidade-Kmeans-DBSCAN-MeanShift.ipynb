{
 "cells": [
  {
   "cell_type": "markdown",
   "id": "77dde7c7-8109-4f6c-a040-a29528ca5a1d",
   "metadata": {},
   "source": [
    "# Clustering com K-Means, DBSCA e Mean Shift"
   ]
  },
  {
   "cell_type": "code",
   "execution_count": null,
   "id": "4a379905-5dd4-4944-8785-9720791cb7a9",
   "metadata": {},
   "outputs": [],
   "source": [
    "import random\n",
    "import joblib\n",
    "import pickle\n",
    "\n",
    "import pandas as pd\n",
    "import numpy as np\n",
    "import seaborn as sns\n",
    "import datetime as dt\n",
    "\n",
    "import matplotlib.pyplot as plt\n",
    "\n",
    "from sklearn.metrics import confusion_matrix\n",
    "from sklearn.preprocessing import MinMaxScaler\n",
    "from sklearn.cluster import KMeans, DBSCAN, MeanShift, estimate_bandwidth\n",
    "from sklearn.metrics import homogeneity_score, completeness_score, v_measure_score, silhouette_score\n",
    "from sklearn.decomposition import PCA\n",
    "from kneed import KneeLocator\n",
    "from scipy.spatial import distance\n",
    "from itertools import cycle\n",
    "\n",
    "import warnings\n",
    "\n",
    "warnings.filterwarnings(\"ignore\")\n",
    "%matplotlib inline"
   ]
  },
  {
   "cell_type": "markdown",
   "id": "508903b2-19c8-46b4-8bb5-80d9800b235f",
   "metadata": {},
   "source": [
    "### Carregando Dados"
   ]
  },
  {
   "cell_type": "code",
   "execution_count": null,
   "id": "ed59d775-1a7b-4d50-ade6-a49523761cb3",
   "metadata": {},
   "outputs": [],
   "source": [
    "arquivo_excel = 'dados/Operacoes.xlsx'\n",
    "\n",
    "df_realizado = pd.read_excel(arquivo_excel, sheet_name='Realizado', header=1, index_col=0)"
   ]
  },
  {
   "cell_type": "code",
   "execution_count": null,
   "id": "084b7d94-f1e7-4a74-9240-15914f2874c4",
   "metadata": {},
   "outputs": [],
   "source": [
    "df_realizado.shape"
   ]
  },
  {
   "cell_type": "code",
   "execution_count": null,
   "id": "c10dd045-c7a0-4b69-96d0-98a012c6be97",
   "metadata": {},
   "outputs": [],
   "source": [
    "df_realizado.columns"
   ]
  },
  {
   "cell_type": "code",
   "execution_count": null,
   "id": "e26c9e3c-3b0c-4bd4-a918-51a09c64e002",
   "metadata": {},
   "outputs": [],
   "source": [
    "df_realizado"
   ]
  },
  {
   "cell_type": "markdown",
   "id": "5407cd80-fa5c-42a0-a8ed-03af15e66dca",
   "metadata": {},
   "source": [
    "### Análise Exploratória"
   ]
  },
  {
   "cell_type": "code",
   "execution_count": null,
   "id": "7e934df5-00d6-465b-931a-bbf4669fb43a",
   "metadata": {},
   "outputs": [],
   "source": [
    "# Tipos dos Dados\n",
    "df_realizado.dtypes"
   ]
  },
  {
   "cell_type": "markdown",
   "id": "77f203bd-041e-42c7-bc7d-5a3801c3e866",
   "metadata": {},
   "source": [
    "#### - Variáveis Numéricas"
   ]
  },
  {
   "cell_type": "code",
   "execution_count": null,
   "id": "e7c435b7-a9df-4c05-8ba0-95cf3a31f9cd",
   "metadata": {},
   "outputs": [],
   "source": [
    "df_realizado.describe()"
   ]
  },
  {
   "cell_type": "code",
   "execution_count": null,
   "id": "ae63c727-c33f-4b86-b5c6-24c6bc0c1e54",
   "metadata": {},
   "outputs": [],
   "source": [
    "#Total Clientes\n",
    "total_cliente = len(df_realizado['Cliente'].unique())\n",
    "total_cliente"
   ]
  },
  {
   "cell_type": "code",
   "execution_count": null,
   "id": "aaed30e5-288b-4aa5-bcaf-7935eecb9a3a",
   "metadata": {},
   "outputs": [],
   "source": [
    "#Criando medidas de RFM para apoiar na clusterização\n",
    "\n",
    "datareferencia = dt.datetime(2024, 10, 25)\n",
    "\n",
    "rfm = df_realizado.groupby('Cliente').agg({\n",
    "    'Data' : lambda x: (datareferencia - x.max()).days,\n",
    "     'Cliente' : 'count',\n",
    "    'Saldo Devedor Inicial' : 'sum'\n",
    "}). rename(columns={'Data':'Recencia', 'Cliente':'Frequencia', 'Saldo Devedor Inicial':'Monetario'}).reset_index()\n",
    "\n",
    "rfm"
   ]
  },
  {
   "cell_type": "code",
   "execution_count": null,
   "id": "b6ce8d23-bf98-4a15-9d2b-7b86df185644",
   "metadata": {},
   "outputs": [],
   "source": [
    "rfm['R_score'] = pd.cut(rfm['Recencia'], 4, labels=[4, 3, 2, 1], include_lowest=True)\n",
    "rfm['F_score'] = pd.cut(rfm['Frequencia'], 4, labels=[1, 2, 3, 4], include_lowest=True)\n",
    "rfm['M_score'] = pd.cut(rfm['Monetario'], 4, labels=[1, 2, 3, 4], include_lowest=True)\n",
    "\n",
    "rfm['RFM_Score'] = rfm['R_score'].astype(int) + rfm['F_score'].astype(int) + rfm['M_score'].astype(int)\n",
    "\n",
    "rfm"
   ]
  },
  {
   "cell_type": "code",
   "execution_count": null,
   "id": "4e1a5e35-0775-4c5d-9a16-5323a2f036a2",
   "metadata": {},
   "outputs": [],
   "source": [
    "df_realizado = pd.merge(df_realizado, rfm[['Cliente', 'RFM_Score']], on='Cliente', how='left')\n",
    "\n",
    "df_realizado"
   ]
  },
  {
   "cell_type": "code",
   "execution_count": null,
   "id": "af954e3f-e97b-46cd-878a-1cc06ace8c10",
   "metadata": {},
   "outputs": [],
   "source": [
    "#Criando a coluna Renda Estimada do cliente\n",
    "\n",
    "renda = df_realizado.groupby('Cliente').agg({\n",
    "     'PMT' : lambda x: (sum(x * 4))\n",
    "}).rename(columns={'PMT':'Renda Mensal Estimada'}).reset_index()\n",
    "\n",
    "renda"
   ]
  },
  {
   "cell_type": "code",
   "execution_count": null,
   "id": "0680f1e6-65f1-4936-bba9-57e37b730d5d",
   "metadata": {},
   "outputs": [],
   "source": [
    "df_realizado = pd.merge(df_realizado, renda[['Cliente', 'Renda Mensal Estimada']], on='Cliente', how='left')\n",
    "\n",
    "df_realizado"
   ]
  },
  {
   "cell_type": "code",
   "execution_count": null,
   "id": "e288f770-8eeb-4327-b19d-5a7fb2281499",
   "metadata": {},
   "outputs": [],
   "source": [
    "datareferencia = dt.datetime(2024, 11, 25)\n",
    "\n",
    "df_realizado['Data'] = df_realizado['Data'].apply(lambda x: (datareferencia - x).days)\n",
    "\n",
    "df_realizado"
   ]
  },
  {
   "cell_type": "code",
   "execution_count": null,
   "id": "e8e18e6b-b59f-4923-bd14-372258cbf852",
   "metadata": {},
   "outputs": [],
   "source": [
    "df_realizado.hist(figsize = (15,15), bins = 10)\n",
    "plt.show()"
   ]
  },
  {
   "cell_type": "code",
   "execution_count": null,
   "id": "07fb56b1-3548-457a-81fb-8c7305ce6e04",
   "metadata": {},
   "outputs": [],
   "source": [
    "df_corr = df_realizado.select_dtypes(exclude=['object'])\n",
    "\n",
    "correlation_matrix = df_corr.corr()\n",
    "\n",
    "fig, ax = plt.subplots(figsize=(10, 8))\n",
    "\n",
    "sns.heatmap(correlation_matrix, annot=True, fmt='.2f', cmap='coolwarm', cbar=True, square=True)\n",
    "ax.set_title('Matriz de Correlação')\n",
    "\n",
    "#salvando figura\n",
    "#fig.savefig('corr.png', format='png')\n",
    "plt.show() "
   ]
  },
  {
   "cell_type": "markdown",
   "id": "db67b8bc-13ad-4bd3-8978-05883d07916f",
   "metadata": {},
   "source": [
    "#### - Variáveis Categoricas"
   ]
  },
  {
   "cell_type": "code",
   "execution_count": null,
   "id": "8fad591f-0f9e-412c-ae13-716e907e7149",
   "metadata": {},
   "outputs": [],
   "source": [
    "df_realizado.describe(include = ['object'])"
   ]
  },
  {
   "cell_type": "code",
   "execution_count": null,
   "id": "8a813660-0fc4-46a7-8022-9d105e47a516",
   "metadata": {},
   "outputs": [],
   "source": [
    "sns.countplot(data = df_realizado, x = 'Produto')\n",
    "\n",
    "CT, S, CO, CP, P = df_realizado['Produto'].value_counts()\n",
    "\n",
    "print('Numero de portabilidade de Cartão: ', CT)\n",
    "print('Numero de portabilidade de Seguro: ', S)\n",
    "print('Numero de portabilidade de Pix: ', P)\n",
    "print('Numero de portabilidade de Consignado: ', CO)\n",
    "print('Numero de portabilidade de Crédito Pessoal: ', CP)"
   ]
  },
  {
   "cell_type": "code",
   "execution_count": null,
   "id": "485e2f63-527a-40b5-9919-6bc8b9d9b861",
   "metadata": {},
   "outputs": [],
   "source": [
    "#Enconding Variave Produto\n",
    "\n",
    "mapping_dic = { 'Cartão' : 1,\n",
    "                'Seguro' : 2,\n",
    "                'Pix' : 3,\n",
    "                'Consignado' : 4,\n",
    "                'Crédito Pessoal' : 5\n",
    "              }\n",
    "\n",
    "\n",
    "df_realizado['Produto'] = df_realizado.Produto.map(mapping_dic)\n",
    "\n",
    "df_realizado"
   ]
  },
  {
   "cell_type": "code",
   "execution_count": null,
   "id": "cdd352bb-c82f-426b-886f-0890503a9b48",
   "metadata": {},
   "outputs": [],
   "source": [
    "df_realizado[df_realizado.isnull().values]"
   ]
  },
  {
   "cell_type": "code",
   "execution_count": null,
   "id": "2f779890-c85c-4e7d-9795-4a8f06156850",
   "metadata": {},
   "outputs": [],
   "source": [
    "df_realizado[df_realizado.duplicated(keep = False)]"
   ]
  },
  {
   "cell_type": "markdown",
   "id": "3e121c37-c429-4e53-be5f-5a1ad6d60757",
   "metadata": {},
   "source": [
    "### Pré Processamento Normalização"
   ]
  },
  {
   "cell_type": "code",
   "execution_count": null,
   "id": "8a06b0ea-9f33-4104-8ef2-58d202d4e139",
   "metadata": {},
   "outputs": [],
   "source": [
    "df_realizado_norm_km = df_realizado.drop(columns=['Cliente'])\n",
    "df_realizado_norm_db = df_realizado_norm_km.copy()\n",
    "df_realizado_norm_ms = df_realizado_norm_km.copy()\n",
    "df_realizado_norm_km"
   ]
  },
  {
   "cell_type": "code",
   "execution_count": null,
   "id": "adce9f7f-db09-4614-98a9-83e50ad6a7bd",
   "metadata": {},
   "outputs": [],
   "source": [
    "scaler = MinMaxScaler(feature_range=(0, 1))\n",
    "\n",
    "df_realizado_norm_km = scaler.fit_transform(df_realizado_norm_km)\n",
    "df_realizado_norm_db = scaler.fit_transform(df_realizado_norm_db)\n",
    "df_realizado_norm_ms = scaler.fit_transform(df_realizado_norm_ms)\n",
    "\n",
    "print(\"Normalização Min-Max:\\n\", df_realizado_norm_km)"
   ]
  },
  {
   "cell_type": "markdown",
   "id": "42de6835-7a60-47c4-90e9-7c586fb912f0",
   "metadata": {},
   "source": [
    "#### Identificado se o DataFrame é clusterizavel"
   ]
  },
  {
   "cell_type": "code",
   "execution_count": null,
   "id": "6f7a794d-decd-4502-b19c-e648d25050ee",
   "metadata": {},
   "outputs": [],
   "source": [
    "# Aplicando Hopkins para identificar se o dataframe é clusterizavel\n",
    "def hopkins_statistic(data, n=None):\n",
    "\n",
    "    if n is None:\n",
    "        n = len(data)\n",
    "\n",
    "    data = np.array(data)\n",
    "    \n",
    "    random_indices = random.sample(range(len(data)), n)\n",
    "    random_points = data[random_indices]\n",
    "    \n",
    "    d1 = []\n",
    "    d2 = []\n",
    "    \n",
    "    for point in random_points:\n",
    "        distances = distance.cdist([point], data, 'euclidean')[0]\n",
    "        sorted_distances = np.sort(distances) \n",
    "        d1.append(sorted_distances[1]) \n",
    "        d2.append(sorted_distances[2])  \n",
    "\n",
    "    D1_sum = np.sum(d1)\n",
    "    D2_sum = np.sum(d2)\n",
    "    \n",
    "    H = D1_sum / (D1_sum + D2_sum)\n",
    "    \n",
    "    return H"
   ]
  },
  {
   "cell_type": "code",
   "execution_count": null,
   "id": "b82ceb30-2102-459b-97a1-77b8cf5c5ea7",
   "metadata": {},
   "outputs": [],
   "source": [
    "# Ideal valores acima de 0.75, 0.5 indica leve tendencia de agrupamento nos dados, mas nada muito claro ou estruturado, problema com Silhouette Score\n",
    "hopkins = hopkins_statistic(df_realizado_norm_km)\n",
    "\n",
    "print(f'Índice de Hopkins: {hopkins}')"
   ]
  },
  {
   "cell_type": "markdown",
   "id": "782c29f8-dff9-4d7c-94b3-62bd655950d3",
   "metadata": {},
   "source": [
    "#### Identificando o número ideal de cluster"
   ]
  },
  {
   "cell_type": "code",
   "execution_count": null,
   "id": "870bf09d-9242-403f-9d80-c8f610d22b25",
   "metadata": {},
   "outputs": [],
   "source": [
    "# Inercia - Soma da distancia em relação ao centro\n",
    "Ks = range(2, 11) \n",
    "\n",
    "valor_metrica = []\n",
    "\n",
    "for k in Ks:\n",
    "    modelo = KMeans(n_clusters=k, random_state = 101)\n",
    "    modelo.fit(df_realizado_norm_km)\n",
    "    valor_metrica.append(modelo.inertia_)\n",
    "\n",
    "plt.plot(Ks, valor_metrica, 'o-')\n",
    "plt.xlabel('Valor de K')\n",
    "plt.ylabel('Inertia')\n",
    "plt.show()"
   ]
  },
  {
   "cell_type": "code",
   "execution_count": null,
   "id": "9e2efd43-7725-4586-9c75-0d51fd43a32e",
   "metadata": {},
   "outputs": [],
   "source": [
    "# Método de Elbow\n",
    "\n",
    "inertia = []\n",
    "range_n_clusters = range(1, 11) \n",
    "\n",
    "for k in range_n_clusters:\n",
    "    kmeans = KMeans(n_clusters = k,\n",
    "                    init = 'k-means++',\n",
    "                    random_state=111)\n",
    "    kmeans.fit(df_realizado_norm_km)\n",
    "    inertia.append(kmeans.inertia_)\n",
    "\n",
    "knee_locator = KneeLocator(range_n_clusters, inertia, curve=\"convex\", direction=\"decreasing\")\n",
    "optimal_k = knee_locator.knee\n",
    "\n",
    "print(f\"O número ideal de clusters é: {optimal_k}\")\n",
    "\n",
    "plt.figure(figsize=(8, 5))\n",
    "plt.plot(range_n_clusters, inertia, marker=\"o\", linestyle=\"--\", color=\"b\", label=\"Inertia\")\n",
    "plt.axvline(x=optimal_k, color=\"r\", linestyle=\"--\", label=f\"Optimal K = {optimal_k}\")\n",
    "plt.title(\"Método Elbow\")\n",
    "plt.xlabel(\"Número de Clusters (k)\")\n",
    "plt.ylabel(\"Inertia\")\n",
    "plt.legend()\n",
    "plt.show()"
   ]
  },
  {
   "cell_type": "code",
   "execution_count": null,
   "id": "5e0f4d37-5252-4425-9e52-8aec1380ed16",
   "metadata": {},
   "outputs": [],
   "source": [
    "# K-Means para gerar pseudo-rótulos com a quantidade de cluster indicado no metodo de elbow\n",
    "df_realizado2 = df_realizado.copy()\n",
    "df_realizado_norm2 = df_realizado2.drop(columns=[\"Cliente\"])\n",
    "\n",
    "kmeans = KMeans(n_clusters=3, random_state=42)\n",
    "pseudo_labels = kmeans.fit_predict(df_realizado_norm2) \n",
    "df_realizado_norm2['labels'] = pseudo_labels\n",
    "\n",
    "print(df_realizado_norm2.head())"
   ]
  },
  {
   "cell_type": "code",
   "execution_count": null,
   "id": "1f6b77e8-a288-42c0-b15e-4ceb6a3ade70",
   "metadata": {},
   "outputs": [],
   "source": [
    "# Homogeneidade - pontos de dados do cluster membros de uma unica classe\n",
    "# Completude - pontos de dados de uma classe membros do mesmo cluster\n",
    "# V Measure - media homogeneidade / completude\n",
    "\n",
    "X = df_realizado_norm2.drop(columns=[\"labels\"]) \n",
    "y_pred = df_realizado_norm2[\"labels\"]  \n",
    "\n",
    "scaler = MinMaxScaler(feature_range=(0, 1))\n",
    "df_realizado_norm2 = scaler.fit_transform(df_realizado_norm2)\n",
    "#print(\"Normalização Min-Max:\\n\", df_realizado_norm)\n",
    "\n",
    "# Testando diferentes números de clusters\n",
    "range_n_clusters = range(2, 11)\n",
    "homogeneity = []\n",
    "completeness = []\n",
    "v_measure = []\n",
    "\n",
    "for k in range_n_clusters:\n",
    "    kmeans = KMeans(n_clusters=k, random_state=42)\n",
    "    labels = kmeans.fit_predict(df_realizado_norm2)\n",
    "    \n",
    "    # Calcular as métricas\n",
    "    homogeneity.append(homogeneity_score(y_pred, labels))\n",
    "    completeness.append(completeness_score(y_pred, labels))\n",
    "    v_measure.append(v_measure_score(y_pred, labels))\n",
    "\n",
    "# Plotar as métricas\n",
    "plt.figure(figsize=(8, 5))\n",
    "plt.plot(range_n_clusters, homogeneity, label=\"Homogeneidade\", marker=\"o\", color=\"b\")\n",
    "plt.plot(range_n_clusters, completeness, label=\"Completude\", marker=\"o\", color=\"g\")\n",
    "plt.plot(range_n_clusters, v_measure, label=\"Medida V\", marker=\"o\", color=\"r\")\n",
    "plt.title(\"Homogeneidade, Completude e Medida V por Número de Clusters\")\n",
    "plt.xlabel(\"Número de Clusters\")\n",
    "plt.ylabel(\"Métricas\")\n",
    "plt.legend()\n",
    "plt.grid(True)\n",
    "plt.show()\n"
   ]
  },
  {
   "cell_type": "markdown",
   "id": "b49865af-d6d4-49b3-b687-3b61ca3e5a47",
   "metadata": {},
   "source": [
    "#### Modelo de Clustering"
   ]
  },
  {
   "cell_type": "markdown",
   "id": "ae8aef56-d972-4ca7-931b-35f8fb78fec0",
   "metadata": {},
   "source": [
    "##### K- Means"
   ]
  },
  {
   "cell_type": "code",
   "execution_count": null,
   "id": "4f77a2e3-e0b2-4168-adc1-eac00d88b71f",
   "metadata": {},
   "outputs": [],
   "source": [
    "kmeans = KMeans(n_clusters = 3,\n",
    "                init = 'k-means++',\n",
    "                random_state = 111)\n",
    "kmeans.fit(df_realizado_norm_km)"
   ]
  },
  {
   "cell_type": "code",
   "execution_count": null,
   "id": "f512694a-74e5-4350-9ce3-b39862df043b",
   "metadata": {},
   "outputs": [],
   "source": [
    "n_clusters = len(set(kmeans.labels_))\n",
    "n_clusters , kmeans.labels_"
   ]
  },
  {
   "cell_type": "code",
   "execution_count": null,
   "id": "cae48d5a-6f98-4274-847f-d10d5a6ba191",
   "metadata": {},
   "outputs": [],
   "source": [
    "pca = PCA(n_components = 2).fit(df_realizado_norm_km)\n",
    "pca2d = pca.transform(df_realizado_norm_km)\n",
    "\n",
    "for i in range(0, pca2d.shape[0]):\n",
    "    if kmeans.labels_[i] == 0:\n",
    "        c1 = plt.scatter(pca2d[i,0],pca2d[i,1], c = 'r', marker = '+')\n",
    "\n",
    "    elif kmeans.labels_[i] == 1:\n",
    "        c2 = plt.scatter(pca2d[i,0],pca2d[i,1], c = 'g', marker = 'o')\n",
    "\n",
    "    elif kmeans.labels_[i] == 2:\n",
    "        c3 = plt.scatter(pca2d[i,0],pca2d[i,1], c = 'b', marker = '*')\n",
    "        \n",
    "plt.legend([c1,c2,c3],['Cluster 0', 'Cluster 1', 'Cluster 2'])\n",
    "plt.title('Cluster K-means - Número de Clusters: %d' % n_clusters)\n",
    "\n",
    "plt.show()"
   ]
  },
  {
   "cell_type": "code",
   "execution_count": null,
   "id": "74301d2b-9537-4cef-8507-839a8c116986",
   "metadata": {},
   "outputs": [],
   "source": [
    "score = silhouette_score(df_realizado_norm_km, kmeans.labels_ )\n",
    "if score > 0.5:\n",
    "    obs = 'Boa clusterização pois o Silhoutte Score é > 0.5'\n",
    "else:\n",
    "    obs = 'Silhoutte Score ficar < 0.5 recomenda-se reavaliar o dataframe ou as métricas, para alcançar > 0.5'\n",
    "    \n",
    "score"
   ]
  },
  {
   "cell_type": "code",
   "execution_count": null,
   "id": "ac8b8cc9-d0ea-4e4a-b3d2-f37de0c30e3e",
   "metadata": {},
   "outputs": [],
   "source": [
    "df_modelos = pd.DataFrame()\n",
    "\n",
    "dict_kmeans = {'Algoritmo' : 'KMeans',\n",
    "               'Silhouette Score' : score,\n",
    "               'OBS' : obs}\n",
    "\n",
    "new_row = pd.DataFrame([dict_kmeans])\n",
    "\n",
    "df_modelos = pd.concat([df_modelos, new_row], ignore_index=True)\n",
    "df_modelos"
   ]
  },
  {
   "cell_type": "markdown",
   "id": "566c96a6-f1d1-4b2d-9f96-2f9f1446fbcf",
   "metadata": {},
   "source": [
    "##### DBSCAN"
   ]
  },
  {
   "cell_type": "code",
   "execution_count": null,
   "id": "5a4ac34e-f177-4803-8838-4441499f67a9",
   "metadata": {},
   "outputs": [],
   "source": [
    "dbscan_v1 = DBSCAN(eps=0.3, min_samples=3)\n",
    "\n",
    "dbscan_v1.fit(df_realizado_norm_db)"
   ]
  },
  {
   "cell_type": "code",
   "execution_count": null,
   "id": "a7b45c8b-f2f0-4859-bbe6-14ccbcfeae22",
   "metadata": {},
   "outputs": [],
   "source": [
    "labels = dbscan_v1.labels_[dbscan_v1.labels_ != -1]\n",
    "n_clusters = len(set(dbscan_v1.labels_)) - (1 if -1 in dbscan_v1.labels_ else 0)\n",
    "\n",
    "n_clusters, labels"
   ]
  },
  {
   "cell_type": "code",
   "execution_count": null,
   "id": "8d9bfffb-efb3-4996-b38b-24069e7fc706",
   "metadata": {},
   "outputs": [],
   "source": [
    "pca = PCA(n_components=2).fit(df_realizado_norm_db)\n",
    "pca2d = pca.transform(df_realizado_norm_db)\n",
    "\n",
    "unique_labels = sorted(set(dbscan_v1.labels_))\n",
    "n_clusters = len(unique_labels) - (1 if -1 in unique_labels else 0)\n",
    "\n",
    "colors = list(plt.cm.tab20.colors) + list(plt.cm.Paired.colors) \n",
    "markers = ['o', 's', 'D', '^', 'v', 'P', '*', 'X', '<', '>', 'h', '+'] * 3 \n",
    "\n",
    "colors = colors * (len(unique_labels) // len(colors) + 1)\n",
    "markers = markers * (len(unique_labels) // len(markers) + 1)\n",
    "\n",
    "label_to_index = {label: idx for idx, label in enumerate(unique_labels)}\n",
    "\n",
    "for cluster_id in unique_labels:\n",
    "    if cluster_id == -1:  # Tratar ruído separadamente\n",
    "        plt.scatter(pca2d[dbscan_v1.labels_ == -1, 0],\n",
    "                    pca2d[dbscan_v1.labels_ == -1, 1],\n",
    "                    c='k', marker='x', label='Noise')\n",
    "    else:\n",
    "        idx = dbscan_v1.labels_ == cluster_id\n",
    "        color_idx = label_to_index[cluster_id]\n",
    "        plt.scatter(pca2d[idx, 0],\n",
    "                    pca2d[idx, 1],\n",
    "                    c=[colors[color_idx]],\n",
    "                    marker=markers[color_idx],\n",
    "                    label=f'Cluster {cluster_id}')\n",
    "        \n",
    "plt.legend()\n",
    "plt.title('Cluster DBSCAN - Número estimado de Clusters: %d' % n_clusters)\n",
    "\n",
    "plt.show()"
   ]
  },
  {
   "cell_type": "code",
   "execution_count": null,
   "id": "d7893c48-9fba-4c16-af95-6940adfe0ef0",
   "metadata": {},
   "outputs": [],
   "source": [
    "if n_clusters > 1:  \n",
    "    score = silhouette_score(df_realizado_norm_km, dbscan_v1.labels_)\n",
    "    print(f\"Silhouette Score (excluindo outliers): {score}\")\n",
    "else:\n",
    "    score = 0\n",
    "    obs = \"Silhouette Score não pode ser calculado com menos de 2 clusters válidos.\"\n",
    "    print(\"Silhouette Score não pode ser calculado com menos de 2 clusters válidos.\")"
   ]
  },
  {
   "cell_type": "code",
   "execution_count": null,
   "id": "8947a6c5-e246-4ea7-851f-3326e5b2012c",
   "metadata": {},
   "outputs": [],
   "source": [
    "dict_DBSCAN = {'Algoritmo' : 'DBSCAN',\n",
    "               'Silhouette Score' : score,\n",
    "               'OBS' : obs}\n",
    "\n",
    "new_row = pd.DataFrame([dict_DBSCAN])\n",
    "\n",
    "df_modelos = pd.concat([df_modelos, new_row], ignore_index=True)\n",
    "df_modelos"
   ]
  },
  {
   "cell_type": "markdown",
   "id": "0ef6f8b0-f202-472c-994b-c9ecfd213335",
   "metadata": {},
   "source": [
    "##### Mean Shift"
   ]
  },
  {
   "cell_type": "code",
   "execution_count": null,
   "id": "616fa76c-54d5-416f-bb9c-b6d4bfa7b0bc",
   "metadata": {
    "scrolled": true
   },
   "outputs": [],
   "source": [
    "bandwidth = estimate_bandwidth(df_realizado_norm_ms, quantile = .1,  n_samples = 500, )\n",
    "\n",
    "meanshift_v1 = MeanShift(bandwidth = bandwidth, bin_seeding = True)\n",
    "\n",
    "meanshift_v1.fit(df_realizado_norm_ms)"
   ]
  },
  {
   "cell_type": "code",
   "execution_count": null,
   "id": "0135cbf0-6080-48cf-be8f-8d165b553955",
   "metadata": {},
   "outputs": [],
   "source": [
    "labels = meanshift_v1.labels_[meanshift_v1.labels_ != -1]\n",
    "n_clusters = len(np.unique(labels))\n",
    "\n",
    "n_clusters, labels"
   ]
  },
  {
   "cell_type": "code",
   "execution_count": null,
   "id": "ab3f17bb-19b1-47a2-818e-d8e87a7ff371",
   "metadata": {},
   "outputs": [],
   "source": [
    "pca = PCA(n_components = 2).fit(df_realizado_norm_ms)\n",
    "pca2d = pca.transform(df_realizado_norm_ms)\n",
    "\n",
    "for i in range(0, pca2d.shape[0]):\n",
    "    if meanshift_v1.labels_[i] == 0:\n",
    "        c1 = plt.scatter(pca2d[i,0],pca2d[i,1], c = 'r', marker = '+')\n",
    "        \n",
    "    elif meanshift_v1.labels_[i] == 1:\n",
    "         c2 = plt.scatter(pca2d[i,0],pca2d[i,1], c = 'g', marker = 'o')\n",
    "        \n",
    "    elif meanshift_v1.labels_[i] == 2:\n",
    "        c3 = plt.scatter(pca2d[i,0],pca2d[i,1], c = 'b', marker = '*')\n",
    "        \n",
    "\n",
    "plt.title('Cluster Mean Shift - Número estimado de Clusters: %d' % n_clusters)\n",
    "\n",
    "plt.show()"
   ]
  },
  {
   "cell_type": "code",
   "execution_count": null,
   "id": "65940339-395a-4233-873a-b9ce4f7a57db",
   "metadata": {},
   "outputs": [],
   "source": [
    "if n_clusters > 1: \n",
    "    score = silhouette_score(df_realizado_norm_ms, labels)\n",
    "    print(f\"Silhouette Score: {score}\")\n",
    "else:\n",
    "    score = 0\n",
    "    obs = \"Silhouette Score não pode ser calculado com menos de 2 clusters válidos.\"\n",
    "    print(\"Silhouette Score não pode ser calculado com menos de 2 clusters.\")"
   ]
  },
  {
   "cell_type": "code",
   "execution_count": null,
   "id": "59e622a9-49c9-4771-8b19-b30e4360b507",
   "metadata": {},
   "outputs": [],
   "source": [
    "dict_MeanShift = {'Algoritmo' : 'Mean Shift',\n",
    "                  'Silhouette Score' : score,\n",
    "                  'OBS' : obs}\n",
    "\n",
    "new_row = pd.DataFrame([dict_MeanShift])\n",
    "\n",
    "df_modelos = pd.concat([df_modelos, new_row], ignore_index=True)"
   ]
  },
  {
   "cell_type": "markdown",
   "id": "dcd85546-40ed-4c40-8d4b-21ac52483c98",
   "metadata": {},
   "source": [
    "#### Avaliação dos Modelos"
   ]
  },
  {
   "cell_type": "code",
   "execution_count": null,
   "id": "38168a27-12f5-4de8-873c-5c3416b18778",
   "metadata": {},
   "outputs": [],
   "source": [
    "df_modelos"
   ]
  },
  {
   "cell_type": "code",
   "execution_count": null,
   "id": "96c4daae-0947-4b8d-96dd-503d45756a58",
   "metadata": {},
   "outputs": [],
   "source": [
    "# Desvio Padrão baixo em relação a distancia indica pouca variabilidade espacial, dados não heterogêneo, distribuidos de maneira uniforme no espaço multidimensional, não apresenta agrupamentos naturais claros\n",
    "distances = distance.pdist(df_realizado_norm_km, metric='euclidean')\n",
    "print(f\"Distância média: {np.mean(distances):.4f}, Desvio padrão: {np.std(distances):.4f}\")"
   ]
  },
  {
   "cell_type": "code",
   "execution_count": null,
   "id": "8bfda870-6660-4efe-bbe4-3b4bd5f3a236",
   "metadata": {},
   "outputs": [],
   "source": [
    "df_realizado.groupby('Produto').agg({\n",
    "     'Renda Mensal Estimada' : 'mean'\n",
    "}).reset_index()"
   ]
  },
  {
   "cell_type": "code",
   "execution_count": null,
   "id": "e3b42250-5a17-471f-b1a5-2d206da20611",
   "metadata": {},
   "outputs": [],
   "source": [
    "df_realizado.groupby('Produto').agg({\n",
    "     'PMT' : 'mean'\n",
    "}).reset_index()"
   ]
  }
 ],
 "metadata": {
  "kernelspec": {
   "display_name": "Python 3 (ipykernel)",
   "language": "python",
   "name": "python3"
  },
  "language_info": {
   "codemirror_mode": {
    "name": "ipython",
    "version": 3
   },
   "file_extension": ".py",
   "mimetype": "text/x-python",
   "name": "python",
   "nbconvert_exporter": "python",
   "pygments_lexer": "ipython3",
   "version": "3.12.4"
  }
 },
 "nbformat": 4,
 "nbformat_minor": 5
}
